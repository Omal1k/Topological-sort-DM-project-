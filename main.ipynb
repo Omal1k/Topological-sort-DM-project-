{
 "cells": [
  {
   "cell_type": "code",
   "execution_count": 102,
   "id": "9824c55f",
   "metadata": {},
   "outputs": [],
   "source": [
    "import random\n",
    "import time"
   ]
  },
  {
   "cell_type": "code",
   "execution_count": 2,
   "id": "3442015a",
   "metadata": {},
   "outputs": [],
   "source": [
    "from tqdm import tqdm\n",
    "import matplotlib.pyplot as plt\n",
    "import networkx as nx"
   ]
  },
  {
   "cell_type": "markdown",
   "id": "488cbba9",
   "metadata": {},
   "source": [
    "# Якийсь текст і + латех"
   ]
  },
  {
   "cell_type": "code",
   "execution_count": 95,
   "id": "7eb354b4",
   "metadata": {},
   "outputs": [],
   "source": [
    "class Graph:\n",
    "    def __init__(self):\n",
    "        self.nodes = set()\n",
    "        self.edges = []\n",
    "        self.adjacency_matrix = []\n",
    "        self.adjacency_list = {}\n",
    "\n",
    "    def add_vertex(self, node):\n",
    "        if node not in self.nodes:\n",
    "            self.nodes.add(node)\n",
    "\n",
    "    def add_edge(self, node1, node2):\n",
    "        if node1 in self.nodes and node2 in self.nodes:\n",
    "            if not self.is_cyclic_with_edge(node1, node2):\n",
    "                self.edges.append((node1, node2))\n",
    "        else:\n",
    "            print(\"One or both of the nodes are not in the graph.\")\n",
    "\n",
    "    def is_cyclic_with_edge(self, node1, node2):\n",
    "        visited = set()\n",
    "        stack = [(node1, -1)]\n",
    "\n",
    "        while stack:\n",
    "            node, parent = stack.pop()\n",
    "            if node in visited:\n",
    "                return True\n",
    "            visited.add(node)\n",
    "            for neighbor in self.get_neighbors(node):\n",
    "                if neighbor != parent:\n",
    "                    stack.append((neighbor, node))\n",
    "        return False\n",
    "\n",
    "    def get_neighbors(self, node):\n",
    "        neighbours = []\n",
    "        if node not in self.nodes:\n",
    "            raise Exception(\"Node not in graph\")\n",
    "        for edge in self.edges:\n",
    "            if node == edge[0]:\n",
    "                neighbours.append(edge[1])\n",
    "        return neighbours\n",
    "\n",
    "    def create_adjacency_matrix(self):\n",
    "        \n",
    "        nodes_list = list(self.nodes)\n",
    "        matrix = [[0 for _ in range(len(nodes_list))] for _ in range(len(nodes_list))]\n",
    "        for edge in self.edges:\n",
    "            i = nodes_list.index(edge[0])\n",
    "            j = nodes_list.index(edge[1])\n",
    "            matrix[i][j] = 1\n",
    "        self.adjacency_matrix = matrix\n",
    "    \n",
    "    def create_adjacency_list(self):\n",
    "        adjacency_list = {}\n",
    "        for node in self.nodes:\n",
    "            adjacency_list[node] = self.get_neighbors(node)\n",
    "        self.adjacency_list = adjacency_list\n",
    "        \n",
    "    def generate_random_graph(self, vertex_count, probability):\n",
    "        if probability < 0 or probability > 1:\n",
    "            raise ValueError(\"Probability must be on [0, 1]\")\n",
    "\n",
    "        for i in range(vertex_count):\n",
    "            self.add_vertex(i)\n",
    "\n",
    "        nodes_in_order = list(range(vertex_count))\n",
    "        random.shuffle(nodes_in_order)\n",
    "\n",
    "        #progress_bar = tqdm(total=vertex_count, position=0, leave=True)\n",
    "\n",
    "        for i in range(vertex_count):\n",
    "            for j in range(i + 1, vertex_count):\n",
    "                if random.random() < probability and nodes_in_order[i] != nodes_in_order[j]:\n",
    "                    self.add_edge(nodes_in_order[i], nodes_in_order[j])\n",
    "            #progress_bar.update(1)\n",
    "\n",
    "        #progress_bar.close()\n",
    "\n",
    "        \n",
    "    def topological_sort(self):\n",
    "        result = []\n",
    "        no_incoming_edges = [node for node in self.nodes if not any(node == edge[1] for edge in self.edges)]\n",
    "\n",
    "        while no_incoming_edges:\n",
    "            node = no_incoming_edges.pop(0)\n",
    "            result.append(node)\n",
    "            self.remove_node(node)\n",
    "            no_incoming_edges = [node for node in self.nodes if not any(node == edge[1] for edge in self.edges)]\n",
    "\n",
    "        if self.edges:\n",
    "            print(\"The graph has cycles, topological sorting is not possible.\")\n",
    "            return None\n",
    "\n",
    "        return result\n",
    "\n",
    "    def remove_node(self, node):\n",
    "        self.nodes.remove(node)\n",
    "        self.edges = [(node1, node2) for node1, node2 in self.edges if node1 != node]\n",
    "\n",
    "    def visualize(self):\n",
    "        \n",
    "        G = nx.DiGraph()\n",
    "        \n",
    "        \n",
    "        for node in self.nodes:\n",
    "            G.add_node(node)\n",
    "    \n",
    "        for edge in self.edges:\n",
    "            G.add_edge(edge[0], edge[1])\n",
    "        print(f'Not cycling Graph: {nx.is_directed_acyclic_graph(G)}') # turn on if you want to test // True - acycling\n",
    "        nx.draw(G, with_labels=True, arrows=True, node_size=1000, node_color='skyblue', font_size=10, font_weight='bold')\n",
    "        plt.show()\n",
    "\n",
    "    def __str__(self):\n",
    "        return str((self.nodes, self.edges))\n"
   ]
  },
  {
   "cell_type": "code",
   "execution_count": 96,
   "id": "5f00f54d",
   "metadata": {},
   "outputs": [
    {
     "name": "stdout",
     "output_type": "stream",
     "text": [
      "Not cycling Graph: True\n"
     ]
    },
    {
     "data": {
      "image/png": "[encoded data removed]",
      "text/plain": [
       "<Figure size 432x288 with 1 Axes>"
      ]
     },
     "metadata": {},
     "output_type": "display_data"
    }
   ],
   "source": [
    "graph = Graph()\n",
    "\n",
    "graph.generate_random_graph(5, 1)\n",
    "graph.visualize()"
   ]
  },
  {
   "cell_type": "code",
   "execution_count": 89,
   "id": "3e322d26",
   "metadata": {},
   "outputs": [
    {
     "name": "stdout",
     "output_type": "stream",
     "text": [
      "[0, 1, 1, 0, 1]\n",
      "[0, 0, 0, 0, 1]\n",
      "[0, 1, 0, 0, 1]\n",
      "[1, 1, 1, 0, 1]\n",
      "[0, 0, 0, 0, 0]\n"
     ]
    }
   ],
   "source": [
    "graph.create_adjacency_matrix()\n",
    "for row in graph.adjacency_matrix:\n",
    "    print(row)\n"
   ]
  },
  {
   "cell_type": "code",
   "execution_count": 90,
   "id": "e2b273e4",
   "metadata": {},
   "outputs": [
    {
     "name": "stdout",
     "output_type": "stream",
     "text": [
      "0 [2, 1, 4]\n",
      "1 [4]\n",
      "2 [1, 4]\n",
      "3 [0, 2, 1, 4]\n",
      "4 []\n"
     ]
    }
   ],
   "source": [
    "graph.create_adjacency_list()\n",
    "for key, value in graph.adjacency_list.items():\n",
    "    print(key, value)"
   ]
  },
  {
   "cell_type": "code",
   "execution_count": 91,
   "id": "1421498d",
   "metadata": {},
   "outputs": [
    {
     "data": {
      "text/plain": [
       "[3, 0, 2, 1, 4]"
      ]
     },
     "execution_count": 91,
     "metadata": {},
     "output_type": "execute_result"
    }
   ],
   "source": [
    "graph.topological_sort()"
   ]
  },
  {
   "cell_type": "markdown",
   "id": "8b371ec6",
   "metadata": {},
   "source": [
    "# Tests"
   ]
  },
  {
   "cell_type": "code",
   "execution_count": 77,
   "id": "60726b0d",
   "metadata": {},
   "outputs": [],
   "source": [
    "probability = [0.1, 0.3, 0.5, 0.7, 0.9]\n",
    "size = [20, 30, 40, 50, 60, 70, 80, 90, 100, 120]\n",
    "attempt = 0"
   ]
  },
  {
   "cell_type": "code",
   "execution_count": 98,
   "id": "44de4e74",
   "metadata": {},
   "outputs": [],
   "source": [
    "import pandas as pd"
   ]
  },
  {
   "cell_type": "code",
   "execution_count": 100,
   "id": "d75550ef",
   "metadata": {},
   "outputs": [],
   "source": [
    "data = []"
   ]
  },
  {
   "cell_type": "code",
   "execution_count": 103,
   "id": "9600b9dd",
   "metadata": {},
   "outputs": [
    {
     "name": "stderr",
     "output_type": "stream",
     "text": [
      " 56%|████████████████████████████████████▏                            | 557/1000 [00:27<00:21, 20.54it/s]\n"
     ]
    },
    {
     "ename": "KeyboardInterrupt",
     "evalue": "",
     "output_type": "error",
     "traceback": [
      "\u001b[0;31m---------------------------------------------------------------------------\u001b[0m",
      "\u001b[0;31mKeyboardInterrupt\u001b[0m                         Traceback (most recent call last)",
      "Input \u001b[0;32mIn [103]\u001b[0m, in \u001b[0;36m<cell line: 2>\u001b[0;34m()\u001b[0m\n\u001b[1;32m      5\u001b[0m \u001b[38;5;28;01mfor\u001b[39;00m i \u001b[38;5;129;01min\u001b[39;00m \u001b[38;5;28mrange\u001b[39m(\u001b[38;5;241m20\u001b[39m):\n\u001b[1;32m      6\u001b[0m     graph \u001b[38;5;241m=\u001b[39m Graph()\n\u001b[0;32m----> 7\u001b[0m     \u001b[43mgraph\u001b[49m\u001b[38;5;241;43m.\u001b[39;49m\u001b[43mgenerate_random_graph\u001b[49m\u001b[43m(\u001b[49m\u001b[43ms\u001b[49m\u001b[43m,\u001b[49m\u001b[43m \u001b[49m\u001b[43mprob\u001b[49m\u001b[43m)\u001b[49m\n\u001b[1;32m      9\u001b[0m     start_time \u001b[38;5;241m=\u001b[39m time\u001b[38;5;241m.\u001b[39mtime()\n\u001b[1;32m     10\u001b[0m     graph\u001b[38;5;241m.\u001b[39mtopological_sort()\n",
      "Input \u001b[0;32mIn [95]\u001b[0m, in \u001b[0;36mGraph.generate_random_graph\u001b[0;34m(self, vertex_count, probability)\u001b[0m\n\u001b[1;32m     71\u001b[0m \u001b[38;5;28;01mfor\u001b[39;00m j \u001b[38;5;129;01min\u001b[39;00m \u001b[38;5;28mrange\u001b[39m(i \u001b[38;5;241m+\u001b[39m \u001b[38;5;241m1\u001b[39m, vertex_count):\n\u001b[1;32m     72\u001b[0m     \u001b[38;5;28;01mif\u001b[39;00m random\u001b[38;5;241m.\u001b[39mrandom() \u001b[38;5;241m<\u001b[39m probability \u001b[38;5;129;01mand\u001b[39;00m nodes_in_order[i] \u001b[38;5;241m!=\u001b[39m nodes_in_order[j]:\n\u001b[0;32m---> 73\u001b[0m         \u001b[38;5;28;43mself\u001b[39;49m\u001b[38;5;241;43m.\u001b[39;49m\u001b[43madd_edge\u001b[49m\u001b[43m(\u001b[49m\u001b[43mnodes_in_order\u001b[49m\u001b[43m[\u001b[49m\u001b[43mi\u001b[49m\u001b[43m]\u001b[49m\u001b[43m,\u001b[49m\u001b[43m \u001b[49m\u001b[43mnodes_in_order\u001b[49m\u001b[43m[\u001b[49m\u001b[43mj\u001b[49m\u001b[43m]\u001b[49m\u001b[43m)\u001b[49m\n",
      "Input \u001b[0;32mIn [95]\u001b[0m, in \u001b[0;36mGraph.add_edge\u001b[0;34m(self, node1, node2)\u001b[0m\n\u001b[1;32m     12\u001b[0m \u001b[38;5;28;01mdef\u001b[39;00m \u001b[38;5;21madd_edge\u001b[39m(\u001b[38;5;28mself\u001b[39m, node1, node2):\n\u001b[1;32m     13\u001b[0m     \u001b[38;5;28;01mif\u001b[39;00m node1 \u001b[38;5;129;01min\u001b[39;00m \u001b[38;5;28mself\u001b[39m\u001b[38;5;241m.\u001b[39mnodes \u001b[38;5;129;01mand\u001b[39;00m node2 \u001b[38;5;129;01min\u001b[39;00m \u001b[38;5;28mself\u001b[39m\u001b[38;5;241m.\u001b[39mnodes:\n\u001b[0;32m---> 14\u001b[0m         \u001b[38;5;28;01mif\u001b[39;00m \u001b[38;5;129;01mnot\u001b[39;00m \u001b[38;5;28;43mself\u001b[39;49m\u001b[38;5;241;43m.\u001b[39;49m\u001b[43mis_cyclic_with_edge\u001b[49m\u001b[43m(\u001b[49m\u001b[43mnode1\u001b[49m\u001b[43m,\u001b[49m\u001b[43m \u001b[49m\u001b[43mnode2\u001b[49m\u001b[43m)\u001b[49m:\n\u001b[1;32m     15\u001b[0m             \u001b[38;5;28mself\u001b[39m\u001b[38;5;241m.\u001b[39medges\u001b[38;5;241m.\u001b[39mappend((node1, node2))\n\u001b[1;32m     16\u001b[0m     \u001b[38;5;28;01melse\u001b[39;00m:\n",
      "Input \u001b[0;32mIn [95]\u001b[0m, in \u001b[0;36mGraph.is_cyclic_with_edge\u001b[0;34m(self, node1, node2)\u001b[0m\n\u001b[1;32m     26\u001b[0m     \u001b[38;5;28;01mreturn\u001b[39;00m \u001b[38;5;28;01mTrue\u001b[39;00m\n\u001b[1;32m     27\u001b[0m visited\u001b[38;5;241m.\u001b[39madd(node)\n\u001b[0;32m---> 28\u001b[0m \u001b[38;5;28;01mfor\u001b[39;00m neighbor \u001b[38;5;129;01min\u001b[39;00m \u001b[38;5;28;43mself\u001b[39;49m\u001b[38;5;241;43m.\u001b[39;49m\u001b[43mget_neighbors\u001b[49m\u001b[43m(\u001b[49m\u001b[43mnode\u001b[49m\u001b[43m)\u001b[49m:\n\u001b[1;32m     29\u001b[0m     \u001b[38;5;28;01mif\u001b[39;00m neighbor \u001b[38;5;241m!=\u001b[39m parent:\n\u001b[1;32m     30\u001b[0m         stack\u001b[38;5;241m.\u001b[39mappend((neighbor, node))\n",
      "Input \u001b[0;32mIn [95]\u001b[0m, in \u001b[0;36mGraph.get_neighbors\u001b[0;34m(self, node)\u001b[0m\n\u001b[1;32m     36\u001b[0m     \u001b[38;5;28;01mraise\u001b[39;00m \u001b[38;5;167;01mException\u001b[39;00m(\u001b[38;5;124m\"\u001b[39m\u001b[38;5;124mNode not in graph\u001b[39m\u001b[38;5;124m\"\u001b[39m)\n\u001b[1;32m     37\u001b[0m \u001b[38;5;28;01mfor\u001b[39;00m edge \u001b[38;5;129;01min\u001b[39;00m \u001b[38;5;28mself\u001b[39m\u001b[38;5;241m.\u001b[39medges:\n\u001b[0;32m---> 38\u001b[0m     \u001b[38;5;28;01mif\u001b[39;00m node \u001b[38;5;241m==\u001b[39m edge[\u001b[38;5;241m0\u001b[39m]:\n\u001b[1;32m     39\u001b[0m         neighbours\u001b[38;5;241m.\u001b[39mappend(edge[\u001b[38;5;241m1\u001b[39m])\n\u001b[1;32m     40\u001b[0m \u001b[38;5;28;01mreturn\u001b[39;00m neighbours\n",
      "\u001b[0;31mKeyboardInterrupt\u001b[0m: "
     ]
    }
   ],
   "source": [
    "total_iterations = len(size) * len(probability) * 20\n",
    "with tqdm(total=total_iterations, position=0, leave=True) as pbar:  \n",
    "    for s in size:\n",
    "        for prob in probability:\n",
    "            for i in range(20):\n",
    "                graph = Graph()\n",
    "                graph.generate_random_graph(s, prob)\n",
    "                \n",
    "                start_time = time.time()\n",
    "                graph.topological_sort()\n",
    "                end_time = time.time()\n",
    "                result = end_time - start_time\n",
    "                data.append({'size': s, 'density': prob, 'time': result})\n",
    "                \n",
    "                pbar.update(1)\n"
   ]
  },
  {
   "cell_type": "code",
   "execution_count": 104,
   "id": "82ad8747",
   "metadata": {},
   "outputs": [],
   "source": [
    "df = pd.DataFrame(data)"
   ]
  },
  {
   "cell_type": "code",
   "execution_count": 105,
   "id": "775d399c",
   "metadata": {},
   "outputs": [
    {
     "data": {
      "text/html": [
       "<div>\n",
       "<style scoped>\n",
       "    .dataframe tbody tr th:only-of-type {\n",
       "        vertical-align: middle;\n",
       "    }\n",
       "\n",
       "    .dataframe tbody tr th {\n",
       "        vertical-align: top;\n",
       "    }\n",
       "\n",
       "    .dataframe thead th {\n",
       "        text-align: right;\n",
       "    }\n",
       "</style>\n",
       "<table border=\"1\" class=\"dataframe\">\n",
       "  <thead>\n",
       "    <tr style=\"text-align: right;\">\n",
       "      <th></th>\n",
       "      <th>size</th>\n",
       "      <th>density</th>\n",
       "      <th>time</th>\n",
       "    </tr>\n",
       "  </thead>\n",
       "  <tbody>\n",
       "    <tr>\n",
       "      <th>0</th>\n",
       "      <td>20</td>\n",
       "      <td>0.1</td>\n",
       "      <td>0.000581</td>\n",
       "    </tr>\n",
       "    <tr>\n",
       "      <th>1</th>\n",
       "      <td>20</td>\n",
       "      <td>0.1</td>\n",
       "      <td>0.000357</td>\n",
       "    </tr>\n",
       "    <tr>\n",
       "      <th>2</th>\n",
       "      <td>20</td>\n",
       "      <td>0.1</td>\n",
       "      <td>0.000328</td>\n",
       "    </tr>\n",
       "    <tr>\n",
       "      <th>3</th>\n",
       "      <td>20</td>\n",
       "      <td>0.1</td>\n",
       "      <td>0.000326</td>\n",
       "    </tr>\n",
       "    <tr>\n",
       "      <th>4</th>\n",
       "      <td>20</td>\n",
       "      <td>0.1</td>\n",
       "      <td>0.000251</td>\n",
       "    </tr>\n",
       "    <tr>\n",
       "      <th>...</th>\n",
       "      <td>...</td>\n",
       "      <td>...</td>\n",
       "      <td>...</td>\n",
       "    </tr>\n",
       "    <tr>\n",
       "      <th>552</th>\n",
       "      <td>70</td>\n",
       "      <td>0.5</td>\n",
       "      <td>0.005640</td>\n",
       "    </tr>\n",
       "    <tr>\n",
       "      <th>553</th>\n",
       "      <td>70</td>\n",
       "      <td>0.5</td>\n",
       "      <td>0.005718</td>\n",
       "    </tr>\n",
       "    <tr>\n",
       "      <th>554</th>\n",
       "      <td>70</td>\n",
       "      <td>0.5</td>\n",
       "      <td>0.005829</td>\n",
       "    </tr>\n",
       "    <tr>\n",
       "      <th>555</th>\n",
       "      <td>70</td>\n",
       "      <td>0.5</td>\n",
       "      <td>0.005827</td>\n",
       "    </tr>\n",
       "    <tr>\n",
       "      <th>556</th>\n",
       "      <td>70</td>\n",
       "      <td>0.5</td>\n",
       "      <td>0.006331</td>\n",
       "    </tr>\n",
       "  </tbody>\n",
       "</table>\n",
       "<p>557 rows × 3 columns</p>\n",
       "</div>"
      ],
      "text/plain": [
       "     size  density      time\n",
       "0      20      0.1  0.000581\n",
       "1      20      0.1  0.000357\n",
       "2      20      0.1  0.000328\n",
       "3      20      0.1  0.000326\n",
       "4      20      0.1  0.000251\n",
       "..    ...      ...       ...\n",
       "552    70      0.5  0.005640\n",
       "553    70      0.5  0.005718\n",
       "554    70      0.5  0.005829\n",
       "555    70      0.5  0.005827\n",
       "556    70      0.5  0.006331\n",
       "\n",
       "[557 rows x 3 columns]"
      ]
     },
     "execution_count": 105,
     "metadata": {},
     "output_type": "execute_result"
    }
   ],
   "source": [
    "df"
   ]
  },
  {
   "cell_type": "code",
   "execution_count": null,
   "id": "17983b89",
   "metadata": {},
   "outputs": [],
   "source": []
  }
 ],
 "metadata": {
  "kernelspec": {
   "display_name": "Python 3 (ipykernel)",
   "language": "python",
   "name": "python3"
  },
  "language_info": {
   "codemirror_mode": {
    "name": "ipython",
    "version": 3
   },
   "file_extension": ".py",
   "mimetype": "text/x-python",
   "name": "python",
   "nbconvert_exporter": "python",
   "pygments_lexer": "ipython3",
   "version": "3.10.3"
  }
 },
 "nbformat": 4,
 "nbformat_minor": 5
}
