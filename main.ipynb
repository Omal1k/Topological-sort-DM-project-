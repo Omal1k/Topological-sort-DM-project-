{
 "cells": [
  {
   "cell_type": "code",
   "execution_count": 46,
   "id": "9824c55f",
   "metadata": {},
   "outputs": [],
   "source": [
    "import random\n",
    "import time"
   ]
  },
  {
   "cell_type": "code",
   "execution_count": 2,
   "id": "3442015a",
   "metadata": {},
   "outputs": [],
   "source": [
    "from tqdm import tqdm\n",
    "import matplotlib.pyplot as plt\n",
    "import networkx as nx"
   ]
  },
  {
   "cell_type": "markdown",
   "id": "488cbba9",
   "metadata": {},
   "source": [
    "# Якийсь текст і + латех"
   ]
  },
  {
   "cell_type": "code",
   "execution_count": 65,
   "id": "7eb354b4",
   "metadata": {},
   "outputs": [],
   "source": [
    "class Graph:\n",
    "    def __init__(self):\n",
    "        self.nodes = set()\n",
    "        self.edges = []\n",
    "        self.adjacency_matrix = []\n",
    "        self.adjacency_list = {}\n",
    "\n",
    "    def add_vertex(self, node):\n",
    "        if node not in self.nodes:\n",
    "            self.nodes.add(node)\n",
    "\n",
    "    def add_edge(self, node1, node2):\n",
    "        if node1 in self.nodes and node2 in self.nodes:\n",
    "            if not self.is_cyclic_with_edge(node1, node2):\n",
    "                self.edges.append((node1, node2))\n",
    "        else:\n",
    "            print('One or both of the nodes are not in the graph')\n",
    "\n",
    "    def is_cyclic_with_edge(self, node1, node2):\n",
    "        visited = set()\n",
    "        stack = [(node1, -1)]\n",
    "\n",
    "        while stack:\n",
    "            node, parent = stack.pop()\n",
    "            if node in visited:\n",
    "                return True\n",
    "            visited.add(node)\n",
    "            for neighbor in self.get_neighbors(node):\n",
    "                if neighbor != parent:\n",
    "                    stack.append((neighbor, node))\n",
    "        return False\n",
    "\n",
    "    def get_neighbors(self, node):\n",
    "        neighbours = []\n",
    "        if node not in self.nodes:\n",
    "            raise Exception('Node not in graph')\n",
    "        for edge in self.edges:\n",
    "            if node == edge[0]:\n",
    "                neighbours.append(edge[1])\n",
    "        return neighbours\n",
    "\n",
    "    def create_adjacency_matrix(self):\n",
    "        \n",
    "        nodes_list = list(self.nodes)\n",
    "        matrix = [[0 for _ in range(len(nodes_list))] for _ in range(len(nodes_list))]\n",
    "        for edge in self.edges:\n",
    "            i = nodes_list.index(edge[0])\n",
    "            j = nodes_list.index(edge[1])\n",
    "            matrix[i][j] = 1\n",
    "        self.adjacency_matrix = matrix\n",
    "    \n",
    "    def create_adjacency_list(self):\n",
    "        adjacency_list = {}\n",
    "        for node in self.nodes:\n",
    "            adjacency_list[node] = self.get_neighbors(node)\n",
    "        self.adjacency_list = adjacency_list\n",
    "        \n",
    "    def generate_random_graph(self, vertex_count, probability):\n",
    "        if probability < 0 or probability > 1:\n",
    "            raise ValueError('Probability must be on [0, 1]')\n",
    "\n",
    "        for i in range(vertex_count):\n",
    "            self.add_vertex(i)\n",
    "\n",
    "        nodes_in_order = list(range(vertex_count))\n",
    "        random.shuffle(nodes_in_order)\n",
    "\n",
    "        #progress_bar = tqdm(total=vertex_count, position=0, leave=True) # turn on if you want to see progessbar of generetion\n",
    "\n",
    "        for i in range(vertex_count):\n",
    "            for j in range(i + 1, vertex_count):\n",
    "                if random.random() < probability and nodes_in_order[i] != nodes_in_order[j]:\n",
    "                    self.add_edge(nodes_in_order[i], nodes_in_order[j])\n",
    "            #progress_bar.update(1)\n",
    "\n",
    "        #progress_bar.close()\n",
    "        self.create_adjacency_matrix()\n",
    "        self.create_adjacency_list()\n",
    "        \n",
    "\n",
    "    \n",
    "        \n",
    "    def topological_sort(self):\n",
    "        result = []\n",
    "        no_incoming_edges = [node for node in self.nodes if not any(node == edge[1] for edge in self.edges)]\n",
    "\n",
    "        while no_incoming_edges:\n",
    "            node = no_incoming_edges.pop(0)\n",
    "            result.append(node)\n",
    "            self.remove_node(node)\n",
    "            no_incoming_edges = [node for node in self.nodes if not any(node == edge[1] for edge in self.edges)]\n",
    "\n",
    "        if self.edges:\n",
    "            print('The graph has cycles, topological sorting is not possible.')\n",
    "            return None\n",
    "\n",
    "        return result\n",
    "    \n",
    "    def topological_sort_matrix(self):\n",
    "        in_degree = {node: 0 for node in range(len(self.adjacency_matrix))}\n",
    "\n",
    "        for row in self.adjacency_matrix:\n",
    "            for col, has_edge in enumerate(row):\n",
    "                if has_edge:\n",
    "                    in_degree[col] += 1\n",
    "\n",
    "        queue = [node for node, degree in in_degree.items() if degree == 0]\n",
    "\n",
    "        topological_order = []\n",
    "\n",
    "        while queue:\n",
    "            node = queue.pop(0)\n",
    "            topological_order.append(node)\n",
    "\n",
    "            for neighbor, has_edge in enumerate(self.adjacency_matrix[node]):\n",
    "                if has_edge:\n",
    "                    in_degree[neighbor] -= 1\n",
    "                    if in_degree[neighbor] == 0:\n",
    "                        queue.append(neighbor)\n",
    "\n",
    "        if sum(in_degree.values()) != 0:\n",
    "            return \"Cycle detected. Topological sort is not possible.\"\n",
    "\n",
    "        return topological_order\n",
    "        \n",
    "\n",
    "\n",
    "\n",
    "    def remove_node(self, node):\n",
    "        self.nodes.remove(node)\n",
    "        self.edges = [(node1, node2) for node1, node2 in self.edges if node1 != node]\n",
    "\n",
    "    def visualize(self):\n",
    "        \n",
    "        G = nx.DiGraph()\n",
    "        \n",
    "        \n",
    "        for node in self.nodes:\n",
    "            G.add_node(node)\n",
    "    \n",
    "        for edge in self.edges:\n",
    "            G.add_edge(edge[0], edge[1])\n",
    "        print(f'Not cycling Graph: {nx.is_directed_acyclic_graph(G)}') # turn on if you want to test // True - acycling\n",
    "        nx.draw(G, with_labels=True, arrows=True, node_size=1000, node_color='skyblue', font_size=10, font_weight='bold')\n",
    "        plt.show()\n",
    "\n",
    "    def __str__(self):\n",
    "        return str((self.nodes, self.edges))\n"
   ]
  },
  {
   "cell_type": "code",
   "execution_count": 78,
   "id": "5f00f54d",
   "metadata": {
    "scrolled": true
   },
   "outputs": [
    {
     "name": "stdout",
     "output_type": "stream",
     "text": [
      "Not cycling Graph: True\n"
     ]
    },
    {
     "data": {
      "image/png": "[encoded data removed]",
      "text/plain": [
       "<Figure size 432x288 with 1 Axes>"
      ]
     },
     "metadata": {},
     "output_type": "display_data"
    }
   ],
   "source": [
    "graph = Graph()\n",
    "\n",
    "graph.generate_random_graph(15, 0.5)\n",
    "graph.visualize()"
   ]
  },
  {
   "cell_type": "code",
   "execution_count": 79,
   "id": "62e6317a",
   "metadata": {},
   "outputs": [
    {
     "data": {
      "text/plain": [
       "[7, 8, 2, 4, 10, 9, 5, 11, 12, 6, 3, 14, 0, 13, 1]"
      ]
     },
     "execution_count": 79,
     "metadata": {},
     "output_type": "execute_result"
    }
   ],
   "source": [
    "graph.topological_sort_matrix()"
   ]
  },
  {
   "cell_type": "code",
   "execution_count": 80,
   "id": "1421498d",
   "metadata": {},
   "outputs": [
    {
     "data": {
      "text/plain": [
       "[7, 2, 8, 4, 10, 9, 5, 11, 6, 12, 3, 14, 0, 13, 1]"
      ]
     },
     "execution_count": 80,
     "metadata": {},
     "output_type": "execute_result"
    }
   ],
   "source": [
    "graph.topological_sort()"
   ]
  },
  {
   "cell_type": "markdown",
   "id": "423d3fc5",
   "metadata": {},
   "source": [
    "# Tests"
   ]
  },
  {
   "cell_type": "code",
   "execution_count": 66,
   "id": "60726b0d",
   "metadata": {},
   "outputs": [],
   "source": [
    "probability = [0.1, 0.3, 0.5, 0.7, 0.9]\n",
    "size = [20, 30, 40, 50, 60, 70, 80, 90, 100, 120]"
   ]
  },
  {
   "cell_type": "code",
   "execution_count": 67,
   "id": "e3d55d51",
   "metadata": {},
   "outputs": [],
   "source": [
    "import pandas as pd"
   ]
  },
  {
   "cell_type": "code",
   "execution_count": 68,
   "id": "5cfdd28c",
   "metadata": {},
   "outputs": [],
   "source": [
    "data = []"
   ]
  },
  {
   "cell_type": "code",
   "execution_count": 84,
   "id": "f21731eb",
   "metadata": {},
   "outputs": [
    {
     "name": "stderr",
     "output_type": "stream",
     "text": [
      "100%|███████████████████████████████████████████████████████████████| 1000/1000 [14:19<00:00,  1.16it/s]\n"
     ]
    }
   ],
   "source": [
    "total_iterations = len(size) * len(probability) * 20\n",
    "with tqdm(total=total_iterations, position=0, leave=True) as pbar:  \n",
    "    for s in size:\n",
    "        for prob in probability:\n",
    "            for i in range(20):\n",
    "                graph = Graph()\n",
    "                graph.generate_random_graph(s, prob)\n",
    "                start_time = time.time()\n",
    "                graph.topological_sort_matrix()\n",
    "                end_time = time.time()\n",
    "                result = end_time - start_time\n",
    "                data.append({'size': s, 'density': prob, 'time': result})\n",
    "\n",
    "                pbar.update(1)\n"
   ]
  },
  {
   "cell_type": "code",
   "execution_count": 85,
   "id": "92134560",
   "metadata": {},
   "outputs": [],
   "source": [
    "df = pd.DataFrame(data)"
   ]
  },
  {
   "cell_type": "code",
   "execution_count": 86,
   "id": "35123e37",
   "metadata": {},
   "outputs": [
    {
     "data": {
      "text/plain": [
       "(1050, 3)"
      ]
     },
     "execution_count": 86,
     "metadata": {},
     "output_type": "execute_result"
    }
   ],
   "source": [
    "df.shape"
   ]
  },
  {
   "cell_type": "code",
   "execution_count": 87,
   "id": "8c774b89",
   "metadata": {},
   "outputs": [
    {
     "data": {
      "text/html": [
       "<div>\n",
       "<style scoped>\n",
       "    .dataframe tbody tr th:only-of-type {\n",
       "        vertical-align: middle;\n",
       "    }\n",
       "\n",
       "    .dataframe tbody tr th {\n",
       "        vertical-align: top;\n",
       "    }\n",
       "\n",
       "    .dataframe thead th {\n",
       "        text-align: right;\n",
       "    }\n",
       "</style>\n",
       "<table border=\"1\" class=\"dataframe\">\n",
       "  <thead>\n",
       "    <tr style=\"text-align: right;\">\n",
       "      <th></th>\n",
       "      <th>size</th>\n",
       "      <th>density</th>\n",
       "      <th>time</th>\n",
       "    </tr>\n",
       "  </thead>\n",
       "  <tbody>\n",
       "    <tr>\n",
       "      <th>0</th>\n",
       "      <td>20</td>\n",
       "      <td>0.1</td>\n",
       "      <td>0.000104</td>\n",
       "    </tr>\n",
       "    <tr>\n",
       "      <th>1</th>\n",
       "      <td>20</td>\n",
       "      <td>0.3</td>\n",
       "      <td>0.000116</td>\n",
       "    </tr>\n",
       "    <tr>\n",
       "      <th>2</th>\n",
       "      <td>20</td>\n",
       "      <td>0.5</td>\n",
       "      <td>0.000083</td>\n",
       "    </tr>\n",
       "    <tr>\n",
       "      <th>3</th>\n",
       "      <td>20</td>\n",
       "      <td>0.7</td>\n",
       "      <td>0.000112</td>\n",
       "    </tr>\n",
       "    <tr>\n",
       "      <th>4</th>\n",
       "      <td>20</td>\n",
       "      <td>0.9</td>\n",
       "      <td>0.000113</td>\n",
       "    </tr>\n",
       "    <tr>\n",
       "      <th>...</th>\n",
       "      <td>...</td>\n",
       "      <td>...</td>\n",
       "      <td>...</td>\n",
       "    </tr>\n",
       "    <tr>\n",
       "      <th>1045</th>\n",
       "      <td>120</td>\n",
       "      <td>0.9</td>\n",
       "      <td>0.001142</td>\n",
       "    </tr>\n",
       "    <tr>\n",
       "      <th>1046</th>\n",
       "      <td>120</td>\n",
       "      <td>0.9</td>\n",
       "      <td>0.001151</td>\n",
       "    </tr>\n",
       "    <tr>\n",
       "      <th>1047</th>\n",
       "      <td>120</td>\n",
       "      <td>0.9</td>\n",
       "      <td>0.001148</td>\n",
       "    </tr>\n",
       "    <tr>\n",
       "      <th>1048</th>\n",
       "      <td>120</td>\n",
       "      <td>0.9</td>\n",
       "      <td>0.001154</td>\n",
       "    </tr>\n",
       "    <tr>\n",
       "      <th>1049</th>\n",
       "      <td>120</td>\n",
       "      <td>0.9</td>\n",
       "      <td>0.001102</td>\n",
       "    </tr>\n",
       "  </tbody>\n",
       "</table>\n",
       "<p>1050 rows × 3 columns</p>\n",
       "</div>"
      ],
      "text/plain": [
       "      size  density      time\n",
       "0       20      0.1  0.000104\n",
       "1       20      0.3  0.000116\n",
       "2       20      0.5  0.000083\n",
       "3       20      0.7  0.000112\n",
       "4       20      0.9  0.000113\n",
       "...    ...      ...       ...\n",
       "1045   120      0.9  0.001142\n",
       "1046   120      0.9  0.001151\n",
       "1047   120      0.9  0.001148\n",
       "1048   120      0.9  0.001154\n",
       "1049   120      0.9  0.001102\n",
       "\n",
       "[1050 rows x 3 columns]"
      ]
     },
     "execution_count": 87,
     "metadata": {},
     "output_type": "execute_result"
    }
   ],
   "source": [
    "df"
   ]
  },
  {
   "cell_type": "code",
   "execution_count": 90,
   "id": "f379d18d",
   "metadata": {},
   "outputs": [],
   "source": [
    "df.to_csv('output.csv')"
   ]
  },
  {
   "cell_type": "code",
   "execution_count": null,
   "id": "d98d1e85",
   "metadata": {},
   "outputs": [],
   "source": []
  }
 ],
 "metadata": {
  "kernelspec": {
   "display_name": "Python 3 (ipykernel)",
   "language": "python",
   "name": "python3"
  },
  "language_info": {
   "codemirror_mode": {
    "name": "ipython",
    "version": 3
   },
   "file_extension": ".py",
   "mimetype": "text/x-python",
   "name": "python",
   "nbconvert_exporter": "python",
   "pygments_lexer": "ipython3",
   "version": "3.10.3"
  }
 },
 "nbformat": 4,
 "nbformat_minor": 5
}
