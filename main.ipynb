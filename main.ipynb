{
 "cells": [
  {
   "cell_type": "code",
   "execution_count": 1,
   "id": "9824c55f",
   "metadata": {},
   "outputs": [],
   "source": [
    "import random"
   ]
  },
  {
   "cell_type": "code",
   "execution_count": 129,
   "id": "3442015a",
   "metadata": {},
   "outputs": [],
   "source": [
    "from tqdm import tqdm\n",
    "import matplotlib.pyplot as plt\n",
    "import networkx as nx"
   ]
  },
  {
   "cell_type": "markdown",
   "id": "488cbba9",
   "metadata": {},
   "source": [
    "# Якийсь текст і + латех"
   ]
  },
  {
   "cell_type": "code",
   "execution_count": 243,
   "id": "7eb354b4",
   "metadata": {},
   "outputs": [],
   "source": [
    "class Graph:\n",
    "    def __init__(self):\n",
    "        self.nodes = set()\n",
    "        self.edges = []\n",
    "        self.adjacency_matrix = []\n",
    "        self.adjacency_list = {}\n",
    "\n",
    "    def add_vertex(self, node):\n",
    "        if node not in self.nodes:\n",
    "            self.nodes.add(node)\n",
    "\n",
    "    def add_edge(self, node1, node2):\n",
    "        if node1 in self.nodes and node2 in self.nodes:\n",
    "            if not self.is_cyclic_with_edge(node1, node2):\n",
    "                self.edges.append((node1, node2))\n",
    "        else:\n",
    "            print(\"One or both of the nodes are not in the graph.\")\n",
    "\n",
    "    def is_cyclic_with_edge(self, node1, node2):\n",
    "        visited = set()\n",
    "        stack = [(node1, -1)]\n",
    "\n",
    "        while stack:\n",
    "            node, parent = stack.pop()\n",
    "            if node in visited:\n",
    "                return True\n",
    "            visited.add(node)\n",
    "            for neighbor in self.get_neighbors(node):\n",
    "                if neighbor != parent:\n",
    "                    stack.append((neighbor, node))\n",
    "        return False\n",
    "\n",
    "    def get_neighbors(self, node):\n",
    "        neighbours = []\n",
    "        if node not in self.nodes:\n",
    "            raise Exception(\"Node not in graph\")\n",
    "        for edge in self.edges:\n",
    "            if node == edge[0]:\n",
    "                neighbours.append(edge[1])\n",
    "        return neighbours\n",
    "\n",
    "    def create_adjacency_matrix(self):\n",
    "        \n",
    "        nodes_list = list(self.nodes)\n",
    "        matrix = [[0 for _ in range(len(nodes_list))] for _ in range(len(nodes_list))]\n",
    "        for edge in self.edges:\n",
    "            i = nodes_list.index(edge[0])\n",
    "            j = nodes_list.index(edge[1])\n",
    "            matrix[i][j] = 1\n",
    "        self.adjacency_matrix = matrix\n",
    "    \n",
    "    def create_adjacency_list(self):\n",
    "        adjacency_list = {}\n",
    "        for node in self.nodes:\n",
    "            adjacency_list[node] = self.get_neighbors(node)\n",
    "        self.adjacency_list = adjacency_list\n",
    "        \n",
    "    def generate_random_graph(self, vertex_count, probability):\n",
    "        if probability < 0 or probability > 1:\n",
    "            raise ValueError(\"Probability must be on [0, 1]\")\n",
    "\n",
    "        for i in range(vertex_count):\n",
    "            self.add_vertex(i)\n",
    "\n",
    "        nodes_in_order = list(range(vertex_count))\n",
    "        random.shuffle(nodes_in_order)\n",
    "\n",
    "        progress_bar = tqdm(total=vertex_count, position=0, leave=True)\n",
    "\n",
    "        for i in range(vertex_count):\n",
    "            for j in range(i + 1, vertex_count):\n",
    "                if random.random() < probability and nodes_in_order[i] != nodes_in_order[j]:\n",
    "                    self.add_edge(nodes_in_order[i], nodes_in_order[j])\n",
    "            progress_bar.update(1)\n",
    "\n",
    "        progress_bar.close()\n",
    "\n",
    "        \n",
    "    def topological_sort(self):\n",
    "        if not nx.is_directed_acyclic_graph(self.to_networkx()): # test of previous test\n",
    "            print(\"The graph has cycles, topological sorting is not possible.\")\n",
    "            return None\n",
    "\n",
    "        result = []\n",
    "        no_incoming_edges = [node for node in self.nodes if not any(node == edge[1] for edge in self.edges)]\n",
    "\n",
    "        while no_incoming_edges:\n",
    "            node = no_incoming_edges.pop(0)\n",
    "            result.append(node)\n",
    "            self.remove_node(node)\n",
    "            no_incoming_edges = [n for n in self.nodes if not any(n == edge[1] for edge in self.edges)]\n",
    "\n",
    "        if self.edges:\n",
    "            print(\"The graph has cycles, topological sorting is not possible.\")\n",
    "            return None\n",
    "\n",
    "        return result\n",
    "\n",
    "    def remove_node(self, node):\n",
    "        self.nodes.remove(node)\n",
    "        self.edges = [(n1, n2) for n1, n2 in self.edges if n1 != node]\n",
    "\n",
    "    def to_networkx(self): # for testing of acycling graph(checking our own method)\n",
    "        G = nx.DiGraph()\n",
    "        for node in self.nodes:\n",
    "            G.add_node(node)\n",
    "        for edge in self.edges:\n",
    "            G.add_edge(edge[0], edge[1])\n",
    "        return G\n",
    "\n",
    "    def visualize(self):\n",
    "        \n",
    "        G = nx.DiGraph()\n",
    "        \n",
    "        \n",
    "        for node in self.nodes:\n",
    "            G.add_node(node)\n",
    "    \n",
    "        for edge in self.edges:\n",
    "            G.add_edge(edge[0], edge[1])\n",
    "        print(f'Cycling or no: {nx.is_directed_acyclic_graph(G)}')\n",
    "        nx.draw(G, with_labels=True, arrows=True, node_size=1000, node_color='skyblue', font_size=10, font_weight='bold')\n",
    "        plt.show()\n",
    "\n",
    "    def __str__(self):\n",
    "        return str((self.nodes, self.edges))\n"
   ]
  },
  {
   "cell_type": "code",
   "execution_count": null,
   "id": "ac737c0d",
   "metadata": {},
   "outputs": [],
   "source": []
  },
  {
   "cell_type": "code",
   "execution_count": 263,
   "id": "5f00f54d",
   "metadata": {},
   "outputs": [
    {
     "name": "stderr",
     "output_type": "stream",
     "text": [
      "100%|██████████████████████████████████████████████████████████████████| 5/5 [00:00<00:00, 24413.88it/s]"
     ]
    },
    {
     "name": "stdout",
     "output_type": "stream",
     "text": [
      "Cycling or no: True\n"
     ]
    },
    {
     "name": "stderr",
     "output_type": "stream",
     "text": [
      "\n"
     ]
    },
    {
     "data": {
      "image/png": "[encoded data removed]",
      "text/plain": [
       "<Figure size 432x288 with 1 Axes>"
      ]
     },
     "metadata": {},
     "output_type": "display_data"
    }
   ],
   "source": [
    "graph = Graph()\n",
    "\n",
    "graph.generate_random_graph(5, 1)\n",
    "graph.visualize()"
   ]
  },
  {
   "cell_type": "code",
   "execution_count": 264,
   "id": "3e322d26",
   "metadata": {},
   "outputs": [
    {
     "name": "stdout",
     "output_type": "stream",
     "text": [
      "[0, 1, 1, 1, 1]\n",
      "[0, 0, 1, 1, 1]\n",
      "[0, 0, 0, 0, 1]\n",
      "[0, 0, 1, 0, 1]\n",
      "[0, 0, 0, 0, 0]\n"
     ]
    }
   ],
   "source": [
    "graph.create_adjacency_matrix()\n",
    "for row in graph.adjacency_matrix:\n",
    "    print(row)\n"
   ]
  },
  {
   "cell_type": "code",
   "execution_count": 265,
   "id": "e2b273e4",
   "metadata": {},
   "outputs": [
    {
     "name": "stdout",
     "output_type": "stream",
     "text": [
      "0 [1, 3, 2, 4]\n",
      "1 [3, 2, 4]\n",
      "2 [4]\n",
      "3 [2, 4]\n",
      "4 []\n"
     ]
    }
   ],
   "source": [
    "graph.create_adjacency_list()\n",
    "for key, value in graph.adjacency_list.items():\n",
    "    print(key, value)"
   ]
  },
  {
   "cell_type": "code",
   "execution_count": 266,
   "id": "1421498d",
   "metadata": {},
   "outputs": [
    {
     "data": {
      "text/plain": [
       "[0, 1, 3, 2, 4]"
      ]
     },
     "execution_count": 266,
     "metadata": {},
     "output_type": "execute_result"
    }
   ],
   "source": [
    "graph.topological_sort()"
   ]
  },
  {
   "cell_type": "code",
   "execution_count": null,
   "id": "60726b0d",
   "metadata": {},
   "outputs": [],
   "source": []
  }
 ],
 "metadata": {
  "kernelspec": {
   "display_name": "Python 3 (ipykernel)",
   "language": "python",
   "name": "python3"
  },
  "language_info": {
   "codemirror_mode": {
    "name": "ipython",
    "version": 3
   },
   "file_extension": ".py",
   "mimetype": "text/x-python",
   "name": "python",
   "nbconvert_exporter": "python",
   "pygments_lexer": "ipython3",
   "version": "3.10.3"
  }
 },
 "nbformat": 4,
 "nbformat_minor": 5
}
