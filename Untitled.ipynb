{
 "cells": [
  {
   "cell_type": "code",
   "execution_count": 49,
   "metadata": {},
   "outputs": [],
   "source": [
    "import networkx as nx\n",
    "class Graph:\n",
    "    def __init__(self):\n",
    "        self.nodes = set()\n",
    "        self.edges = []\n",
    "\n",
    "    def add_vertex(self, node):\n",
    "        if node not in self.nodes:\n",
    "            self.nodes.add(node)\n",
    "\n",
    "    def add_edge(self, node1, node2):\n",
    "        if node1 in self.nodes and node2 in self.nodes:\n",
    "            self.edges.append((node1, node2))\n",
    "\n",
    "    def get_neighbors(self, node):\n",
    "        neighbours = []\n",
    "        if node in self.nodes:\n",
    "            for edge in self.edges:\n",
    "                if node in edge:\n",
    "                    neighbours.append(edge[0] if edge[0] != node else edge[1])\n",
    "            return neighbours\n",
    "        else:\n",
    "            return []\n",
    "    \n",
    "    def create_adjacency_matrix(self):\n",
    "        matrix = [[0 for _ in range(len(self.nodes))] for _ in range(len(self.nodes))]\n",
    "        nodes_list = list(self.nodes)\n",
    "        for edge in self.edges:\n",
    "            i = nodes_list.index(edge[0])\n",
    "            j = nodes_list.index(edge[1])\n",
    "            matrix[i][j] = 1\n",
    "        return matrix\n",
    "\n",
    "    def create_adjacency_list(self):\n",
    "        matrix = [[0 for _ in range(len(self.nodes))] for _ in range(len(self.edges))]\n",
    "        nodes_list = list(self.nodes)\n",
    "        for i in range(self.edges):\n",
    "            \n",
    "    def visualize(self):\n",
    "        import matplotlib.pyplot as plt\n",
    "\n",
    "        G = nx.Graph()\n",
    "\n",
    "        for node in self.nodes:\n",
    "            G.add_node(node)\n",
    "\n",
    "        for edge in self.edges:\n",
    "            G.add_edge(edge[0], edge[1])\n",
    "\n",
    "        nx.draw(G, with_labels=True)\n",
    "        plt.show()       \n",
    "\n",
    "    def __str__(self):\n",
    "        return str((self.nodes, self.edges))\n",
    "        "
   ]
  },
  {
   "cell_type": "code",
   "execution_count": 50,
   "id": "5f00f54d",
   "metadata": {},
   "outputs": [
    {
     "data": {
      "text/plain": [
       "[[0, 1, 1, 0, 0, 0, 0, 0, 0, 0, 0, 0, 0, 0, 0],\n",
       " [0, 0, 0, 1, 1, 0, 0, 0, 0, 0, 0, 0, 0, 0, 0],\n",
       " [0, 0, 0, 0, 0, 1, 1, 0, 0, 0, 0, 0, 0, 0, 0],\n",
       " [0, 0, 0, 0, 0, 0, 0, 1, 1, 0, 0, 0, 0, 0, 0],\n",
       " [0, 0, 0, 0, 0, 0, 0, 0, 0, 1, 1, 0, 0, 0, 0],\n",
       " [0, 0, 0, 0, 0, 0, 0, 0, 0, 0, 0, 1, 1, 0, 0],\n",
       " [0, 0, 0, 0, 0, 0, 0, 0, 0, 0, 0, 0, 0, 1, 1],\n",
       " [0, 0, 0, 0, 0, 0, 0, 0, 0, 0, 0, 0, 0, 0, 0],\n",
       " [0, 0, 0, 0, 0, 0, 0, 0, 0, 0, 0, 0, 0, 0, 0],\n",
       " [0, 0, 0, 0, 0, 0, 0, 0, 0, 0, 0, 0, 0, 0, 0],\n",
       " [0, 0, 0, 0, 0, 0, 0, 0, 0, 0, 0, 0, 0, 0, 0],\n",
       " [0, 0, 0, 0, 0, 0, 0, 0, 0, 0, 0, 0, 0, 0, 0],\n",
       " [0, 0, 0, 0, 0, 0, 0, 0, 0, 0, 0, 0, 0, 0, 0],\n",
       " [0, 0, 0, 0, 0, 0, 0, 0, 0, 0, 0, 0, 0, 0, 0],\n",
       " [0, 0, 0, 0, 0, 0, 0, 0, 0, 0, 0, 0, 0, 0, 0]]"
      ]
     },
     "execution_count": 50,
     "metadata": {},
     "output_type": "execute_result"
    }
   ],
   "source": [
    "graph = Graph()\n",
    "\n",
    "for i in range(1, 16):\n",
    "    graph.add_vertex(i)\n",
    "\n",
    "graph.add_edge(1, 2)\n",
    "graph.add_edge(1, 3)\n",
    "graph.add_edge(2, 4)\n",
    "graph.add_edge(2, 5)\n",
    "graph.add_edge(3, 6)\n",
    "graph.add_edge(3, 7)\n",
    "graph.add_edge(4, 8)\n",
    "graph.add_edge(4, 9)\n",
    "graph.add_edge(5, 10)\n",
    "graph.add_edge(5, 11)\n",
    "graph.add_edge(6, 12)\n",
    "graph.add_edge(6, 13)\n",
    "graph.add_edge(7, 14)\n",
    "graph.add_edge(7, 15)\n",
    "\n",
    "# Visualize the graph\n",
    "# graph.visualize()\n",
    "graph.create_adjacency_matrix()"
   ]
  },
  {
   "cell_type": "code",
   "execution_count": null,
   "id": "3e322d26",
   "metadata": {},
   "outputs": [],
   "source": []
  }
 ],
 "metadata": {
  "kernelspec": {
   "display_name": "Python 3",
   "language": "python",
   "name": "python3"
  },
  "language_info": {
   "codemirror_mode": {
    "name": "ipython",
    "version": 3
   },
   "file_extension": ".py",
   "mimetype": "text/x-python",
   "name": "python",
   "nbconvert_exporter": "python",
   "pygments_lexer": "ipython3",
   "version": "3.11.5"
  }
 },
 "nbformat": 4,
 "nbformat_minor": 5
}
